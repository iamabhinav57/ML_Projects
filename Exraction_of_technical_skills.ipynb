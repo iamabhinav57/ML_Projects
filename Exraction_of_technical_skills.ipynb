{
 "cells": [
  {
   "cell_type": "markdown",
   "id": "bde91fbc",
   "metadata": {},
   "source": [
    "# Extraction of tecnical skills"
   ]
  },
  {
   "cell_type": "markdown",
   "id": "8034ca3e",
   "metadata": {},
   "source": [
    "Import the required library"
   ]
  },
  {
   "cell_type": "code",
   "execution_count": 1,
   "id": "3167ad28",
   "metadata": {},
   "outputs": [],
   "source": [
    "import numpy as np\n",
    "import pandas as pd\n",
    "import seaborn as sns"
   ]
  },
  {
   "cell_type": "markdown",
   "id": "d70e67e6",
   "metadata": {},
   "source": [
    "Read the Example_Technical_Skills file"
   ]
  },
  {
   "cell_type": "code",
   "execution_count": 2,
   "id": "ea3ecfce",
   "metadata": {},
   "outputs": [
    {
     "data": {
      "text/html": [
       "<div>\n",
       "<style scoped>\n",
       "    .dataframe tbody tr th:only-of-type {\n",
       "        vertical-align: middle;\n",
       "    }\n",
       "\n",
       "    .dataframe tbody tr th {\n",
       "        vertical-align: top;\n",
       "    }\n",
       "\n",
       "    .dataframe thead th {\n",
       "        text-align: right;\n",
       "    }\n",
       "</style>\n",
       "<table border=\"1\" class=\"dataframe\">\n",
       "  <thead>\n",
       "    <tr style=\"text-align: right;\">\n",
       "      <th></th>\n",
       "      <th>Technology Skills</th>\n",
       "    </tr>\n",
       "  </thead>\n",
       "  <tbody>\n",
       "    <tr>\n",
       "      <th>0</th>\n",
       "      <td>SAP Fiori Developer</td>\n",
       "    </tr>\n",
       "    <tr>\n",
       "      <th>1</th>\n",
       "      <td>Oracle Instance Management &amp; Strategy</td>\n",
       "    </tr>\n",
       "    <tr>\n",
       "      <th>2</th>\n",
       "      <td>Boomi Master Data Management</td>\n",
       "    </tr>\n",
       "    <tr>\n",
       "      <th>3</th>\n",
       "      <td>Digital Manufacturing on Cloud ( DMC)</td>\n",
       "    </tr>\n",
       "    <tr>\n",
       "      <th>4</th>\n",
       "      <td>DevOps</td>\n",
       "    </tr>\n",
       "  </tbody>\n",
       "</table>\n",
       "</div>"
      ],
      "text/plain": [
       "                       Technology Skills\n",
       "0                    SAP Fiori Developer\n",
       "1  Oracle Instance Management & Strategy\n",
       "2           Boomi Master Data Management\n",
       "3  Digital Manufacturing on Cloud ( DMC)\n",
       "4                                 DevOps"
      ]
     },
     "execution_count": 2,
     "metadata": {},
     "output_type": "execute_result"
    }
   ],
   "source": [
    "df1 = pd.read_csv('Example_Technical_Skills.csv')\n",
    "df1.head()"
   ]
  },
  {
   "cell_type": "markdown",
   "id": "5ff50cd6",
   "metadata": {},
   "source": [
    "Read the Raw_Skills_Dataset file"
   ]
  },
  {
   "cell_type": "code",
   "execution_count": 3,
   "id": "1c05697c",
   "metadata": {},
   "outputs": [
    {
     "data": {
      "text/html": [
       "<div>\n",
       "<style scoped>\n",
       "    .dataframe tbody tr th:only-of-type {\n",
       "        vertical-align: middle;\n",
       "    }\n",
       "\n",
       "    .dataframe tbody tr th {\n",
       "        vertical-align: top;\n",
       "    }\n",
       "\n",
       "    .dataframe thead th {\n",
       "        text-align: right;\n",
       "    }\n",
       "</style>\n",
       "<table border=\"1\" class=\"dataframe\">\n",
       "  <thead>\n",
       "    <tr style=\"text-align: right;\">\n",
       "      <th></th>\n",
       "      <th>RAW DATA</th>\n",
       "    </tr>\n",
       "  </thead>\n",
       "  <tbody>\n",
       "    <tr>\n",
       "      <th>0</th>\n",
       "      <td>What ifs</td>\n",
       "    </tr>\n",
       "    <tr>\n",
       "      <th>1</th>\n",
       "      <td>seniority</td>\n",
       "    </tr>\n",
       "    <tr>\n",
       "      <th>2</th>\n",
       "      <td>familiarity</td>\n",
       "    </tr>\n",
       "    <tr>\n",
       "      <th>3</th>\n",
       "      <td>functionalities</td>\n",
       "    </tr>\n",
       "    <tr>\n",
       "      <th>4</th>\n",
       "      <td>Lambdas</td>\n",
       "    </tr>\n",
       "  </tbody>\n",
       "</table>\n",
       "</div>"
      ],
      "text/plain": [
       "          RAW DATA\n",
       "0         What ifs\n",
       "1        seniority\n",
       "2      familiarity\n",
       "3  functionalities\n",
       "4          Lambdas"
      ]
     },
     "execution_count": 3,
     "metadata": {},
     "output_type": "execute_result"
    }
   ],
   "source": [
    "df2 = pd.read_csv('Raw_Skills_Dataset.csv')\n",
    "df2.head()"
   ]
  },
  {
   "cell_type": "code",
   "execution_count": 4,
   "id": "a320819f",
   "metadata": {},
   "outputs": [
    {
     "name": "stdout",
     "output_type": "stream",
     "text": [
      "897\n"
     ]
    }
   ],
   "source": [
    "skill = set()\n",
    "for i in df1['Technology Skills']:\n",
    "    skill.add(i)\n",
    "print(len(skill))"
   ]
  },
  {
   "cell_type": "code",
   "execution_count": 5,
   "id": "5930650e",
   "metadata": {},
   "outputs": [
    {
     "name": "stdout",
     "output_type": "stream",
     "text": [
      "36\n"
     ]
    }
   ],
   "source": [
    "new_skill = set()\n",
    "for i in df2['RAW DATA']:\n",
    "    if(i in skill):\n",
    "        new_skill.add(i)\n",
    "print(len(new_skill))        "
   ]
  },
  {
   "cell_type": "code",
   "execution_count": 6,
   "id": "fa34d4f2",
   "metadata": {},
   "outputs": [
    {
     "data": {
      "text/plain": [
       "{'ActiveMQ',\n",
       " 'Adobe Photoshop',\n",
       " 'Amazon Lambda',\n",
       " 'Apache Oozie',\n",
       " 'Bash',\n",
       " 'Bitbucket',\n",
       " 'Consul',\n",
       " 'DRM',\n",
       " 'DevOps',\n",
       " 'EAC',\n",
       " 'Eclipse',\n",
       " 'Ethereum',\n",
       " 'FTP',\n",
       " 'Force.com',\n",
       " 'GitHub',\n",
       " 'Guidewire PolicyCenter',\n",
       " 'Gulp',\n",
       " 'Katalon',\n",
       " 'Kotlin',\n",
       " 'Magento',\n",
       " 'Microsoft Azure Networking',\n",
       " 'MySQL',\n",
       " 'NetSuite',\n",
       " 'NuGet',\n",
       " 'Octopus Deploy',\n",
       " 'OneStream',\n",
       " 'OpenShift',\n",
       " 'Phantom',\n",
       " 'PostGIS',\n",
       " 'Radius',\n",
       " 'SAP Analytics Cloud',\n",
       " 'SAP Lumira',\n",
       " 'SAS Base',\n",
       " 'SAS Enterprise Guide',\n",
       " 'SAS JMP',\n",
       " 'SCSS'}"
      ]
     },
     "execution_count": 6,
     "metadata": {},
     "output_type": "execute_result"
    }
   ],
   "source": [
    "new_skill"
   ]
  },
  {
   "cell_type": "code",
   "execution_count": null,
   "id": "b4e2cf87",
   "metadata": {},
   "outputs": [],
   "source": []
  }
 ],
 "metadata": {
  "kernelspec": {
   "display_name": "Python 3",
   "language": "python",
   "name": "python3"
  },
  "language_info": {
   "codemirror_mode": {
    "name": "ipython",
    "version": 3
   },
   "file_extension": ".py",
   "mimetype": "text/x-python",
   "name": "python",
   "nbconvert_exporter": "python",
   "pygments_lexer": "ipython3",
   "version": "3.8.8"
  }
 },
 "nbformat": 4,
 "nbformat_minor": 5
}
